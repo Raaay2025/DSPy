{
 "cells": [
  {
   "metadata": {
    "ExecuteTime": {
     "end_time": "2025-07-23T07:33:56.677907Z",
     "start_time": "2025-07-23T07:33:37.626271Z"
    }
   },
   "cell_type": "code",
   "source": [
    "import dspy\n",
    "import json\n",
    "from dspy.teleprompt import MIPROv2, BootstrapFinetune\n",
    "from src.dsp_model import FaultExtractor\n",
    "from src.bert_utils import bert_similarity_metric\n",
    "from dspy import Example\n",
    "import os"
   ],
   "id": "7fe41961347e69d9",
   "outputs": [],
   "execution_count": 1
  },
  {
   "metadata": {
    "ExecuteTime": {
     "end_time": "2025-07-23T07:33:58.105958Z",
     "start_time": "2025-07-23T07:33:58.083964Z"
    }
   },
   "cell_type": "code",
   "source": [
    "# Step 1: 加载数据\n",
    "\n",
    "with open(\"../raw_data/故障类.json\", \"r\", encoding=\"utf-8-sig\") as f:\n",
    "    samples = json.load(f)\n",
    "    \n",
    "samples[:2]"
   ],
   "id": "85042f852fb1d0e",
   "outputs": [
    {
     "data": {
      "text/plain": [
       "[{'input': '西北实习生李龙。你好天山站，杨立斌向您回令。喂啥那个啥？是那个操操作天哈，一线线路保护投入的。保护投入了稍等我给你转一下。嗯，好。',\n",
       "  'faulty_call': '1',\n",
       "  'extract': {'fault_equipment': '无',\n",
       "   'fault_time': '无',\n",
       "   'region': '无',\n",
       "   'voltage_level': '无',\n",
       "   'weather_condition': '无',\n",
       "   'fault_reason_and_check_result': '无',\n",
       "   'fault_recovery_time': '无',\n",
       "   'illustrate': '天哈，一线线路保护投入',\n",
       "   'line_name': '天哈，一线线路',\n",
       "   'power_supply_time': '无',\n",
       "   'fault_phase': '无',\n",
       "   'protect_info': '无',\n",
       "   'plant_station_name': '天山站',\n",
       "   'bus_name': '无',\n",
       "   'bus_type': '无',\n",
       "   'handling_status': '无',\n",
       "   'detailed_description': '无',\n",
       "   'expecteddefect_elimination_time': '无',\n",
       "   'protection_action': '操操作天哈，一线线路保护投入',\n",
       "   'trip_details': '无',\n",
       "   'unit_num': '无',\n",
       "   'manufacturer': '无',\n",
       "   'production_date': '无'}},\n",
       " {'input': '你好哈，密变王勇。你要干什么？回令退与我们这有个投保护的。嗯，回去是吧，一会我给你回过去吧。行好的。再见。',\n",
       "  'faulty_call': '1',\n",
       "  'extract': {'fault_equipment': '无',\n",
       "   'fault_time': '无',\n",
       "   'region': '无',\n",
       "   'voltage_level': '无',\n",
       "   'weather_condition': '无',\n",
       "   'fault_reason_and_check_result': '无',\n",
       "   'fault_recovery_time': '无',\n",
       "   'illustrate': '投保护',\n",
       "   'line_name': '无',\n",
       "   'power_supply_time': '无',\n",
       "   'fault_phase': '无',\n",
       "   'protect_info': '投保护的',\n",
       "   'plant_station_name': '哈密变',\n",
       "   'bus_name': '无',\n",
       "   'bus_type': '无',\n",
       "   'handling_status': '无',\n",
       "   'detailed_description': '无',\n",
       "   'expecteddefect_elimination_time': '无',\n",
       "   'protection_action': '无',\n",
       "   'trip_details': '无',\n",
       "   'unit_num': '无',\n",
       "   'manufacturer': '无',\n",
       "   'production_date': '无'}}]"
      ]
     },
     "execution_count": 2,
     "metadata": {},
     "output_type": "execute_result"
    }
   ],
   "execution_count": 2
  },
  {
   "metadata": {
    "ExecuteTime": {
     "end_time": "2025-07-23T07:33:58.866453Z",
     "start_time": "2025-07-23T07:33:58.852938Z"
    }
   },
   "cell_type": "code",
   "source": [
    "# Step 2: 构建 DSPy Example 数据集\n",
    "trainset = []\n",
    "for sample in samples:\n",
    "    example = Example({\n",
    "        'input': sample['input'],\n",
    "        **sample['extract']\n",
    "    }).with_inputs('input')\n",
    "    trainset.append(example)\n",
    "    \n",
    "trainset[:2]"
   ],
   "id": "1f7aa7486b12bc57",
   "outputs": [
    {
     "data": {
      "text/plain": [
       "[Example({'input': '西北实习生李龙。你好天山站，杨立斌向您回令。喂啥那个啥？是那个操操作天哈，一线线路保护投入的。保护投入了稍等我给你转一下。嗯，好。', 'fault_equipment': '无', 'fault_time': '无', 'region': '无', 'voltage_level': '无', 'weather_condition': '无', 'fault_reason_and_check_result': '无', 'fault_recovery_time': '无', 'illustrate': '天哈，一线线路保护投入', 'line_name': '天哈，一线线路', 'power_supply_time': '无', 'fault_phase': '无', 'protect_info': '无', 'plant_station_name': '天山站', 'bus_name': '无', 'bus_type': '无', 'handling_status': '无', 'detailed_description': '无', 'expecteddefect_elimination_time': '无', 'protection_action': '操操作天哈，一线线路保护投入', 'trip_details': '无', 'unit_num': '无', 'manufacturer': '无', 'production_date': '无'}) (input_keys={'input'}),\n",
       " Example({'input': '你好哈，密变王勇。你要干什么？回令退与我们这有个投保护的。嗯，回去是吧，一会我给你回过去吧。行好的。再见。', 'fault_equipment': '无', 'fault_time': '无', 'region': '无', 'voltage_level': '无', 'weather_condition': '无', 'fault_reason_and_check_result': '无', 'fault_recovery_time': '无', 'illustrate': '投保护', 'line_name': '无', 'power_supply_time': '无', 'fault_phase': '无', 'protect_info': '投保护的', 'plant_station_name': '哈密变', 'bus_name': '无', 'bus_type': '无', 'handling_status': '无', 'detailed_description': '无', 'expecteddefect_elimination_time': '无', 'protection_action': '无', 'trip_details': '无', 'unit_num': '无', 'manufacturer': '无', 'production_date': '无'}) (input_keys={'input'})]"
      ]
     },
     "execution_count": 3,
     "metadata": {},
     "output_type": "execute_result"
    }
   ],
   "execution_count": 3
  },
  {
   "metadata": {
    "ExecuteTime": {
     "end_time": "2025-07-23T07:33:59.523293Z",
     "start_time": "2025-07-23T07:33:59.505393Z"
    }
   },
   "cell_type": "code",
   "source": [
    "# Step 3: 划分训练集和验证集\n",
    "from sklearn.model_selection import train_test_split\n",
    "\n",
    "trainset, valset = train_test_split(trainset, test_size=0.2, random_state=42)"
   ],
   "id": "168e26d7878c6801",
   "outputs": [],
   "execution_count": 4
  },
  {
   "metadata": {
    "ExecuteTime": {
     "end_time": "2025-07-23T07:34:00.093920Z",
     "start_time": "2025-07-23T07:34:00.077894Z"
    }
   },
   "cell_type": "code",
   "source": "trainset[:2], valset[:2]",
   "id": "d92311656fdff05b",
   "outputs": [
    {
     "data": {
      "text/plain": [
       "([Example({'input': '七五。如果墙面于海龙，向您回令。你说。操作单位若羌变已完成六六千伏2号3号10号11号低压电抗器运行转热备用的操作时间是19点54分。好，现在站内电压运行正常了嘛。正常了，现在。注意电压监视再见。好再见。', 'fault_equipment': '六六千伏2号3号10号11号低压电抗器', 'fault_time': '19点54分', 'region': '无', 'voltage_level': '六六千伏', 'weather_condition': '无', 'fault_reason_and_check_result': '无', 'fault_recovery_time': '无', 'illustrate': '已完成六六千伏2号3号10号11号低压电抗器运行转热备用', 'line_name': '无', 'power_supply_time': '无', 'fault_phase': '无', 'protect_info': '无', 'plant_station_name': '若羌变', 'bus_name': '无', 'bus_type': '无', 'handling_status': '站内电压运行正常', 'detailed_description': '无', 'expecteddefect_elimination_time': '无', 'protection_action': '完成六六千伏2号3号10号11号低压电抗器运行转热备用', 'trip_details': '无', 'unit_num': '无', 'manufacturer': '无', 'production_date': '无'}) (input_keys={'input'}),\n",
       "  Example({'input': '喂，你好宁夏孙原。对。西北郭亚慧刚要报完工是吧，你说先说灵州的吧。您稍等。嗯嗯嗯，嗯嗯嗯，你好宁夏田波我这边给您对。灵州的这张。好的，我来念吗？嗯，你说吧。好的，那个分中心检修票编号NW-2025-0672。停电项目名称灵州灵州协控总站PCS-992稳控装置一灵州协控主站PCS-992稳控装置2。稳控装置几？稳控装置1，两个都是稳控装置1，一个是协控总站稳控装置1，一个协控主站稳控装置1，工作内容是配合庆东直流安控系统现场联合调试开展装置程序升级单体调试、通道调试、系统调试，定值更改。稳定安控设备分中心设备。灵州协控总站PCS-992稳控装置一退出灵州协控主站PCS-992稳控装置一退出。安措恢复运行要求无。这个各专业会签意见调度专业意见是同意，操作前确认。另外一套装置运行正常系统运行专业意见同意稳控联调相关工作见系统处稳控联调单202503-14保护水星和那个通信专业都是同意，批复的工期是4月7日的8点至4月11日20点。我现在这个工作终结人员撤离自做安措拆除现场具备报完工条件。是。好，我给你确认一下，现在工作全部结束，人员撤离安措已拆除定值整定无误，具备完工条件是吧？是。宁夏田波。受理完工完工时间记19点14。好的。张银川东的是吧，说吧。是那个分中心检修票编号，是NW-2025-0671。停电项目名称银川东。银川东协控总站SCS-500稳控装置1，银川东协控主站SCS-500稳控装置1工作内容配合庆东直流安控系统现场联合调试开展直流，开展装置程序升级单体调试、通道调试、系统调试、定值更改，稳定安控设备。银川东协控总站SCS-500稳控装置一退出银川东协控主站SCS-500稳控装置1退出，安措恢复运行要求无。批复的工期是4月7日的8点至4月11日20点各专业意见调度运行专业意见是同意操作前确认另外一套。和上一张票都一样嘛，对吧？一致一致。现在确认所有工作全部结束，人员撤离安措已拆除，具备报完工条件是吧？是具备。定值整定无误，对吧？是。受理完工完工时间记19点15。好收到，。再见。', 'fault_equipment': 'PCS-992稳控装置一', 'fault_time': '无', 'region': '宁夏', 'voltage_level': '无', 'weather_condition': '无', 'fault_reason_and_check_result': '无', 'fault_recovery_time': '无', 'illustrate': '无', 'line_name': '无', 'power_supply_time': '无', 'fault_phase': '无', 'protect_info': '无', 'plant_station_name': '无', 'bus_name': '无', 'bus_type': '无', 'handling_status': '检修票编号NW-2025-0672，检修票编号NW-2025-0671报完工', 'detailed_description': '灵州协控总站PCS-992稳控装置一灵州协控主站PCS-992稳控装置1报完工，银川东协控总站SCS-500稳控装置1银川东协控主站SCS-500稳控装置1报完工', 'expecteddefect_elimination_time': '无', 'protection_action': '无', 'trip_details': '无', 'unit_num': '无', 'manufacturer': '无', 'production_date': '无'}) (input_keys={'input'})],\n",
       " [Example({'input': '迅速成立。喂你好三塘湖站亲人就是我们那个7560、1707、5612、7接地刀闸现在已经合上了，给你。恢复到票面状态呢，是吧？对恢复到票面。稍等我再看一下。好。你们是把信号封锁吗，我们这边看不到呢？对。他把虾线拔了那。会让她恢复一下再给你。好嗯，再见。', 'fault_equipment': '无', 'fault_time': '无', 'region': '无', 'voltage_level': '无', 'weather_condition': '无', 'fault_reason_and_check_result': '无', 'fault_recovery_time': '无', 'illustrate': '无', 'line_name': '无', 'power_supply_time': '无', 'fault_phase': '无', 'protect_info': '无', 'plant_station_name': '三塘湖站', 'bus_name': '无', 'bus_type': '无', 'handling_status': '7560、1707、5612、7接地刀闸现在已经合上了,恢复到票面', 'detailed_description': '无', 'expecteddefect_elimination_time': '无', 'protection_action': '无', 'trip_details': '无', 'unit_num': '无', 'manufacturer': '无', 'production_date': '无'}) (input_keys={'input'}),\n",
       "  Example({'input': '喂，你好宁夏孙原。西北郭艳辉，我问一下你们今天那个切除的风机的出力恢复了没。动保。恢复一部分。恢复的是什么？就就那个大风导致提脱网的这个分机是吧？过了。恢复了八十七万了，现在还有100一百六十九万还没恢复。你们损失了这么多，后边有跟我们汇报吗？这这个多久汇报一次呀。我看。你这个上上午是咋汇报的，你不是切除就得跟我们说一下吗？他这个变动特别快。只有两家，是吧？我们接到您汇报，只有贺兰山第一、第二风电场损失了八万。送宝第五、第六还有新娘第一风电场损失了六万千瓦，只接到汇报这些呀。这这个目前有点多，我我把那个统计表给你发过去吧。你们现在还有多少没恢复吗？没恢复还有100然后看有个一百六十万六十多万。六十九万。你把那个表发过来，我看一下。嗯，嗯，好的好。', 'fault_equipment': '风机', 'fault_time': '无', 'region': '宁夏孙原', 'voltage_level': '无', 'weather_condition': '大风', 'fault_reason_and_check_result': '大风导致提脱网', 'fault_recovery_time': '无', 'illustrate': '恢复了一部分出力，目前还有169万未恢复', 'line_name': '无', 'power_supply_time': '无', 'fault_phase': '无', 'protect_info': '无', 'plant_station_name': '贺兰山第一、第二风电场，送宝第五、第六风电场，新娘第一风电场', 'bus_name': '无', 'bus_type': '无', 'handling_status': '正在恢复中', 'detailed_description': '损失了87万，目前还有169万未恢复', 'expecteddefect_elimination_time': '无', 'protection_action': '无', 'trip_details': '无', 'unit_num': '无', 'manufacturer': '无', 'production_date': '无'}) (input_keys={'input'})])"
      ]
     },
     "execution_count": 5,
     "metadata": {},
     "output_type": "execute_result"
    }
   ],
   "execution_count": 5
  },
  {
   "metadata": {
    "ExecuteTime": {
     "end_time": "2025-07-23T07:34:00.561407Z",
     "start_time": "2025-07-23T07:34:00.551788Z"
    }
   },
   "cell_type": "code",
   "source": [
    "# Step 4: 设置语言模型（可使用本地模型如 Qwen）\n",
    "from dotenv import load_dotenv\n",
    "\n",
    "load_dotenv()  # 加载 .env 文件中的变量"
   ],
   "id": "5414d12cf56c2567",
   "outputs": [
    {
     "data": {
      "text/plain": [
       "True"
      ]
     },
     "execution_count": 6,
     "metadata": {},
     "output_type": "execute_result"
    }
   ],
   "execution_count": 6
  },
  {
   "metadata": {
    "ExecuteTime": {
     "end_time": "2025-07-23T07:34:01.167528Z",
     "start_time": "2025-07-23T07:34:01.153400Z"
    }
   },
   "cell_type": "code",
   "source": [
    "lm = dspy.LM('ollama_chat/qwen2.5:32b', api_base=os.getenv(\"OLLAMA_A800_API_BASE\"), api_key='', cache=False)\n",
    "dspy.configure(lm=lm)\n",
    "\n",
    "# Step 5: 实例化模型\n",
    "model = FaultExtractor()"
   ],
   "id": "e919fbbe1d46ffba",
   "outputs": [],
   "execution_count": 7
  },
  {
   "metadata": {
    "ExecuteTime": {
     "end_time": "2025-07-23T07:34:01.568408Z",
     "start_time": "2025-07-23T07:34:01.556629Z"
    }
   },
   "cell_type": "code",
   "source": [
    "from dspy.teleprompt import BootstrapFewShotWithRandomSearch\n",
    "\n",
    "# 配置参数\n",
    "config = dict(\n",
    "    max_labeled_demos=4,           # 每个模块最多使用4个标注样本作为示例\n",
    "    max_bootstrapped_demos=4,      # 模型自动生成最多4个示例\n",
    "    num_candidate_programs=10,     # 生成候选程序并选择最优\n",
    "    num_threads=20,                # 并行线程数（根据CPU/GPU配置调整）\n",
    ")\n",
    "\n",
    "# 创建优化器\n",
    "teleprompter = BootstrapFewShotWithRandomSearch(\n",
    "    metric=bert_similarity_metric,  # 评估函数\n",
    "    **config\n",
    ")"
   ],
   "id": "3c2ddcae066f216b",
   "outputs": [
    {
     "name": "stdout",
     "output_type": "stream",
     "text": [
      "Going to sample between 1 and 4 traces per predictor.\n",
      "Will attempt to bootstrap 10 candidate sets.\n"
     ]
    }
   ],
   "execution_count": 8
  },
  {
   "metadata": {
    "ExecuteTime": {
     "end_time": "2025-07-23T10:22:08.007932Z",
     "start_time": "2025-07-23T07:34:02.546532Z"
    }
   },
   "cell_type": "code",
   "source": [
    "# 开始优化\n",
    "optimized_module = teleprompter.compile(model, trainset=trainset)"
   ],
   "id": "8f7dad78dfa40b1b",
   "outputs": [
    {
     "name": "stdout",
     "output_type": "stream",
     "text": [
      "Average Metric: 42.80 / 93 (46.0%): 100%|██████████| 93/93 [10:59<00:00,  7.09s/it]              "
     ]
    },
    {
     "name": "stderr",
     "output_type": "stream",
     "text": [
      "2025/07/23 15:45:02 INFO dspy.evaluate.evaluate: Average Metric: 42.79793930053711 / 93 (46.0%)\n"
     ]
    },
    {
     "name": "stdout",
     "output_type": "stream",
     "text": [
      "\n",
      "New best score: 46.02 for seed -3\n",
      "Scores so far: [np.float32(46.02)]\n",
      "Best score so far: 46.02000045776367\n",
      "Average Metric: 77.63 / 93 (83.5%): 100%|██████████| 93/93 [10:52<00:00,  7.01s/it]             "
     ]
    },
    {
     "name": "stderr",
     "output_type": "stream",
     "text": [
      "2025/07/23 15:55:54 INFO dspy.evaluate.evaluate: Average Metric: 77.63197326660156 / 93 (83.5%)\n"
     ]
    },
    {
     "name": "stdout",
     "output_type": "stream",
     "text": [
      "\n",
      "New best score: 83.48 for seed -2\n",
      "Scores so far: [np.float32(46.02), np.float32(83.48)]\n",
      "Best score so far: 83.4800033569336\n"
     ]
    },
    {
     "name": "stderr",
     "output_type": "stream",
     "text": [
      "  4%|▍         | 4/93 [01:34<34:54, 23.54s/it]\n"
     ]
    },
    {
     "name": "stdout",
     "output_type": "stream",
     "text": [
      "Bootstrapped 4 full traces after 4 examples for up to 1 rounds, amounting to 4 attempts.\n",
      "Average Metric: 72.30 / 93 (77.69999694824219%): 100%|██████████| 93/93 [12:57<00:00,  8.36s/it]"
     ]
    },
    {
     "name": "stderr",
     "output_type": "stream",
     "text": [
      "2025/07/23 16:10:26 INFO dspy.evaluate.evaluate: Average Metric: 72.29702758789062 / 93 (77.69999694824219%)\n"
     ]
    },
    {
     "name": "stdout",
     "output_type": "stream",
     "text": [
      "\n",
      "Scores so far: [np.float32(46.02), np.float32(83.48), np.float32(77.74)]\n",
      "Best score so far: 83.4800033569336\n"
     ]
    },
    {
     "name": "stderr",
     "output_type": "stream",
     "text": [
      "  4%|▍         | 4/93 [01:32<34:21, 23.16s/it]\n"
     ]
    },
    {
     "name": "stdout",
     "output_type": "stream",
     "text": [
      "Bootstrapped 4 full traces after 4 examples for up to 1 rounds, amounting to 4 attempts.\n",
      "Average Metric: 72.59 / 93 (78.0999984741211%): 100%|██████████| 93/93 [12:49<00:00,  8.27s/it] "
     ]
    },
    {
     "name": "stderr",
     "output_type": "stream",
     "text": [
      "2025/07/23 16:24:48 INFO dspy.evaluate.evaluate: Average Metric: 72.59283447265625 / 93 (78.0999984741211%)\n"
     ]
    },
    {
     "name": "stdout",
     "output_type": "stream",
     "text": [
      "\n",
      "Scores so far: [np.float32(46.02), np.float32(83.48), np.float32(77.74), np.float32(78.06)]\n",
      "Best score so far: 83.4800033569336\n"
     ]
    },
    {
     "name": "stderr",
     "output_type": "stream",
     "text": [
      "  2%|▏         | 2/93 [00:54<41:35, 27.43s/it]\n"
     ]
    },
    {
     "name": "stdout",
     "output_type": "stream",
     "text": [
      "Bootstrapped 2 full traces after 2 examples for up to 1 rounds, amounting to 2 attempts.\n",
      "Average Metric: 76.80 / 93 (82.5999984741211%): 100%|██████████| 93/93 [12:09<00:00,  7.84s/it] "
     ]
    },
    {
     "name": "stderr",
     "output_type": "stream",
     "text": [
      "2025/07/23 16:37:53 INFO dspy.evaluate.evaluate: Average Metric: 76.79571533203125 / 93 (82.5999984741211%)\n"
     ]
    },
    {
     "name": "stdout",
     "output_type": "stream",
     "text": [
      "\n",
      "Scores so far: [np.float32(46.02), np.float32(83.48), np.float32(77.74), np.float32(78.06), np.float32(82.58)]\n",
      "Best score so far: 83.4800033569336\n"
     ]
    },
    {
     "name": "stderr",
     "output_type": "stream",
     "text": [
      "  1%|          | 1/93 [00:29<44:41, 29.15s/it]\n"
     ]
    },
    {
     "name": "stdout",
     "output_type": "stream",
     "text": [
      "Bootstrapped 1 full traces after 1 examples for up to 1 rounds, amounting to 1 attempts.\n",
      "Average Metric: 73.67 / 93 (79.19999694824219%): 100%|██████████| 93/93 [10:50<00:00,  7.00s/it]"
     ]
    },
    {
     "name": "stderr",
     "output_type": "stream",
     "text": [
      "2025/07/23 16:49:12 INFO dspy.evaluate.evaluate: Average Metric: 73.67460632324219 / 93 (79.19999694824219%)\n"
     ]
    },
    {
     "name": "stdout",
     "output_type": "stream",
     "text": [
      "\n",
      "Scores so far: [np.float32(46.02), np.float32(83.48), np.float32(77.74), np.float32(78.06), np.float32(82.58), np.float32(79.22)]\n",
      "Best score so far: 83.4800033569336\n"
     ]
    },
    {
     "name": "stderr",
     "output_type": "stream",
     "text": [
      "  2%|▏         | 2/93 [00:50<38:25, 25.33s/it]\n"
     ]
    },
    {
     "name": "stdout",
     "output_type": "stream",
     "text": [
      "Bootstrapped 2 full traces after 2 examples for up to 1 rounds, amounting to 2 attempts.\n",
      "Average Metric: 72.68 / 93 (78.0999984741211%): 100%|██████████| 93/93 [12:30<00:00,  8.07s/it] "
     ]
    },
    {
     "name": "stderr",
     "output_type": "stream",
     "text": [
      "2025/07/23 17:02:34 INFO dspy.evaluate.evaluate: Average Metric: 72.67671203613281 / 93 (78.0999984741211%)\n"
     ]
    },
    {
     "name": "stdout",
     "output_type": "stream",
     "text": [
      "\n",
      "Scores so far: [np.float32(46.02), np.float32(83.48), np.float32(77.74), np.float32(78.06), np.float32(82.58), np.float32(79.22), np.float32(78.15)]\n",
      "Best score so far: 83.4800033569336\n"
     ]
    },
    {
     "name": "stderr",
     "output_type": "stream",
     "text": [
      "  2%|▏         | 2/93 [00:53<40:48, 26.91s/it]\n"
     ]
    },
    {
     "name": "stdout",
     "output_type": "stream",
     "text": [
      "Bootstrapped 2 full traces after 2 examples for up to 1 rounds, amounting to 2 attempts.\n",
      "Average Metric: 71.83 / 93 (77.19999694824219%): 100%|██████████| 93/93 [12:30<00:00,  8.07s/it]"
     ]
    },
    {
     "name": "stderr",
     "output_type": "stream",
     "text": [
      "2025/07/23 17:15:58 INFO dspy.evaluate.evaluate: Average Metric: 71.8294906616211 / 93 (77.19999694824219%)\n"
     ]
    },
    {
     "name": "stdout",
     "output_type": "stream",
     "text": [
      "\n",
      "Scores so far: [np.float32(46.02), np.float32(83.48), np.float32(77.74), np.float32(78.06), np.float32(82.58), np.float32(79.22), np.float32(78.15), np.float32(77.24)]\n",
      "Best score so far: 83.4800033569336\n"
     ]
    },
    {
     "name": "stderr",
     "output_type": "stream",
     "text": [
      "  3%|▎         | 3/93 [01:11<35:57, 23.97s/it]\n"
     ]
    },
    {
     "name": "stdout",
     "output_type": "stream",
     "text": [
      "Bootstrapped 3 full traces after 3 examples for up to 1 rounds, amounting to 3 attempts.\n",
      "Average Metric: 72.37 / 93 (77.80000305175781%): 100%|██████████| 93/93 [11:50<00:00,  7.64s/it]"
     ]
    },
    {
     "name": "stderr",
     "output_type": "stream",
     "text": [
      "2025/07/23 17:29:01 INFO dspy.evaluate.evaluate: Average Metric: 72.36868286132812 / 93 (77.80000305175781%)\n"
     ]
    },
    {
     "name": "stdout",
     "output_type": "stream",
     "text": [
      "\n",
      "Scores so far: [np.float32(46.02), np.float32(83.48), np.float32(77.74), np.float32(78.06), np.float32(82.58), np.float32(79.22), np.float32(78.15), np.float32(77.24), np.float32(77.82)]\n",
      "Best score so far: 83.4800033569336\n"
     ]
    },
    {
     "name": "stderr",
     "output_type": "stream",
     "text": [
      "  1%|          | 1/93 [00:29<45:33, 29.71s/it]\n"
     ]
    },
    {
     "name": "stdout",
     "output_type": "stream",
     "text": [
      "Bootstrapped 1 full traces after 1 examples for up to 1 rounds, amounting to 1 attempts.\n",
      "Average Metric: 74.10 / 93 (79.69999694824219%): 100%|██████████| 93/93 [11:52<00:00,  7.66s/it]"
     ]
    },
    {
     "name": "stderr",
     "output_type": "stream",
     "text": [
      "2025/07/23 17:41:23 INFO dspy.evaluate.evaluate: Average Metric: 74.1009292602539 / 93 (79.69999694824219%)\n"
     ]
    },
    {
     "name": "stdout",
     "output_type": "stream",
     "text": [
      "\n",
      "Scores so far: [np.float32(46.02), np.float32(83.48), np.float32(77.74), np.float32(78.06), np.float32(82.58), np.float32(79.22), np.float32(78.15), np.float32(77.24), np.float32(77.82), np.float32(79.68)]\n",
      "Best score so far: 83.4800033569336\n"
     ]
    },
    {
     "name": "stderr",
     "output_type": "stream",
     "text": [
      "  3%|▎         | 3/93 [01:15<37:49, 25.22s/it]\n"
     ]
    },
    {
     "name": "stdout",
     "output_type": "stream",
     "text": [
      "Bootstrapped 3 full traces after 3 examples for up to 1 rounds, amounting to 3 attempts.\n",
      "Average Metric: 75.46 / 93 (81.0999984741211%): 100%|██████████| 93/93 [13:10<00:00,  8.50s/it] "
     ]
    },
    {
     "name": "stderr",
     "output_type": "stream",
     "text": [
      "2025/07/23 17:55:50 INFO dspy.evaluate.evaluate: Average Metric: 75.46284484863281 / 93 (81.0999984741211%)\n"
     ]
    },
    {
     "name": "stdout",
     "output_type": "stream",
     "text": [
      "\n",
      "Scores so far: [np.float32(46.02), np.float32(83.48), np.float32(77.74), np.float32(78.06), np.float32(82.58), np.float32(79.22), np.float32(78.15), np.float32(77.24), np.float32(77.82), np.float32(79.68), np.float32(81.14)]\n",
      "Best score so far: 83.4800033569336\n"
     ]
    },
    {
     "name": "stderr",
     "output_type": "stream",
     "text": [
      "  2%|▏         | 2/93 [00:51<39:02, 25.74s/it]\n"
     ]
    },
    {
     "name": "stdout",
     "output_type": "stream",
     "text": [
      "Bootstrapped 2 full traces after 2 examples for up to 1 rounds, amounting to 2 attempts.\n",
      "Average Metric: 77.15 / 93 (83.0%): 100%|██████████| 93/93 [11:19<00:00,  7.31s/it]             "
     ]
    },
    {
     "name": "stderr",
     "output_type": "stream",
     "text": [
      "2025/07/23 18:08:01 INFO dspy.evaluate.evaluate: Average Metric: 77.15186309814453 / 93 (83.0%)\n"
     ]
    },
    {
     "name": "stdout",
     "output_type": "stream",
     "text": [
      "\n",
      "Scores so far: [np.float32(46.02), np.float32(83.48), np.float32(77.74), np.float32(78.06), np.float32(82.58), np.float32(79.22), np.float32(78.15), np.float32(77.24), np.float32(77.82), np.float32(79.68), np.float32(81.14), np.float32(82.96)]\n",
      "Best score so far: 83.4800033569336\n"
     ]
    },
    {
     "name": "stderr",
     "output_type": "stream",
     "text": [
      "  4%|▍         | 4/93 [01:34<34:58, 23.58s/it]\n"
     ]
    },
    {
     "name": "stdout",
     "output_type": "stream",
     "text": [
      "Bootstrapped 4 full traces after 4 examples for up to 1 rounds, amounting to 4 attempts.\n",
      "Average Metric: 67.69 / 93 (72.80000305175781%): 100%|██████████| 93/93 [12:32<00:00,  8.09s/it]"
     ]
    },
    {
     "name": "stderr",
     "output_type": "stream",
     "text": [
      "2025/07/23 18:22:07 INFO dspy.evaluate.evaluate: Average Metric: 67.68534851074219 / 93 (72.80000305175781%)\n"
     ]
    },
    {
     "name": "stdout",
     "output_type": "stream",
     "text": [
      "\n",
      "Scores so far: [np.float32(46.02), np.float32(83.48), np.float32(77.74), np.float32(78.06), np.float32(82.58), np.float32(79.22), np.float32(78.15), np.float32(77.24), np.float32(77.82), np.float32(79.68), np.float32(81.14), np.float32(82.96), np.float32(72.78)]\n",
      "Best score so far: 83.4800033569336\n",
      "13 candidate programs found.\n"
     ]
    }
   ],
   "execution_count": 9
  },
  {
   "metadata": {
    "ExecuteTime": {
     "end_time": "2025-07-23T10:22:15.343657Z",
     "start_time": "2025-07-23T10:22:15.324527Z"
    }
   },
   "cell_type": "code",
   "source": [
    "# 保存模型\n",
    "model_path = \"optimized_fault_extractor.json\"\n",
    "optimized_module.save(model_path)\n",
    "print(\"模型已保存至:\", model_path)"
   ],
   "id": "cc298bd5ddf2dea2",
   "outputs": [
    {
     "name": "stdout",
     "output_type": "stream",
     "text": [
      "模型已保存至: optimized_fault_extractor.json\n"
     ]
    }
   ],
   "execution_count": 10
  },
  {
   "metadata": {
    "ExecuteTime": {
     "end_time": "2025-07-23T10:32:59.428095Z",
     "start_time": "2025-07-23T10:26:38.156467Z"
    }
   },
   "cell_type": "code",
   "source": [
    "from dspy.evaluate import Evaluate\n",
    "\n",
    "# 创建评估器\n",
    "evaluate = Evaluate(devset=valset, metric=bert_similarity_metric, num_threads=5, display_progress=True)\n",
    "\n",
    "# 评估优化前模块\n",
    "print(\"优化前模块评分：\")\n",
    "evaluate(model)\n",
    "\n",
    "# 评估优化后模块\n",
    "print(\"优化后模块评分：\")\n",
    "evaluate(optimized_module)"
   ],
   "id": "a5089711f8641737",
   "outputs": [
    {
     "name": "stdout",
     "output_type": "stream",
     "text": [
      "优化前模块评分：\n",
      "Average Metric: 12.63 / 24 (52.599998474121094%): 100%|██████████| 24/24 [03:09<00:00,  7.88s/it]"
     ]
    },
    {
     "name": "stderr",
     "output_type": "stream",
     "text": [
      "2025/07/23 18:29:47 INFO dspy.evaluate.evaluate: Average Metric: 12.631243705749512 / 24 (52.599998474121094%)\n"
     ]
    },
    {
     "name": "stdout",
     "output_type": "stream",
     "text": [
      "\n",
      "优化后模块评分：\n",
      "Average Metric: 0.08 / 1 (8.0%):   4%|▍         | 1/24 [08:28<3:14:52, 508.38s/it]  9.73s/it]\n",
      "Average Metric: 19.95 / 24 (83.0999984741211%): 100%|██████████| 24/24 [03:12<00:00,  8.01s/it] "
     ]
    },
    {
     "name": "stderr",
     "output_type": "stream",
     "text": [
      "2025/07/23 18:32:59 INFO dspy.evaluate.evaluate: Average Metric: 19.954309463500977 / 24 (83.0999984741211%)\n"
     ]
    },
    {
     "name": "stdout",
     "output_type": "stream",
     "text": [
      "\n"
     ]
    },
    {
     "data": {
      "text/plain": [
       "np.float32(83.14)"
      ]
     },
     "execution_count": 13,
     "metadata": {},
     "output_type": "execute_result"
    }
   ],
   "execution_count": 13
  },
  {
   "metadata": {},
   "cell_type": "code",
   "outputs": [],
   "execution_count": null,
   "source": "",
   "id": "761fab2b2b2e1c43"
  }
 ],
 "metadata": {
  "kernelspec": {
   "display_name": "Python 3",
   "language": "python",
   "name": "python3"
  },
  "language_info": {
   "codemirror_mode": {
    "name": "ipython",
    "version": 2
   },
   "file_extension": ".py",
   "mimetype": "text/x-python",
   "name": "python",
   "nbconvert_exporter": "python",
   "pygments_lexer": "ipython2",
   "version": "2.7.6"
  }
 },
 "nbformat": 4,
 "nbformat_minor": 5
}
