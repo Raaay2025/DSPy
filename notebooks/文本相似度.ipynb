{
 "cells": [
  {
   "metadata": {},
   "cell_type": "markdown",
   "source": "# 基于BERT + 余弦相似度的文本相似度计算",
   "id": "759632d8555f8caf"
  },
  {
   "metadata": {},
   "cell_type": "markdown",
   "source": "## 导入所需库，创建设备对象",
   "id": "6195cec229de1eb"
  },
  {
   "metadata": {
    "ExecuteTime": {
     "end_time": "2025-07-23T02:59:06.328180Z",
     "start_time": "2025-07-23T02:59:01.052612Z"
    }
   },
   "cell_type": "code",
   "source": [
    "import torch\n",
    "from transformers import BertTokenizer, BertModel\n",
    "from sklearn.metrics.pairwise import cosine_similarity\n",
    "\n",
    "device = torch.device(\"cuda\" if torch.cuda.is_available() else \"cpu\")\n",
    "\n",
    "device"
   ],
   "id": "ed9d9bfba69cabb3",
   "outputs": [
    {
     "data": {
      "text/plain": [
       "device(type='cuda')"
      ]
     },
     "execution_count": 1,
     "metadata": {},
     "output_type": "execute_result"
    }
   ],
   "execution_count": 1
  },
  {
   "metadata": {},
   "cell_type": "markdown",
   "source": "## 简单示例",
   "id": "4d9f587f7a3b7fa"
  },
  {
   "metadata": {
    "ExecuteTime": {
     "end_time": "2025-07-23T02:59:08.132045Z",
     "start_time": "2025-07-23T02:59:07.668928Z"
    }
   },
   "cell_type": "code",
   "source": [
    "# 1. 加载中文 BERT 模型和分词器\n",
    "tokenizer = BertTokenizer.from_pretrained('../bert-base-chinese/')\n",
    "model = BertModel.from_pretrained('../bert-base-chinese')\n",
    "\n",
    "# 2. 将模型移动到GPU上（如果可用）\n",
    "device = torch.device(\"cuda\" if torch.cuda.is_available() else \"cpu\")\n",
    "model.to(device)\n",
    "\n",
    "# 3. 准备两个中文句子\n",
    "text1 = \"我喜欢机器学习和自然语言处理\"\n",
    "text2 = \"我热爱人工智能和深度学习\"\n",
    "\n",
    "# 4. 对句子进行分词和编码，并将输入数据移动到相同的设备上\n",
    "inputs1 = tokenizer(text1, return_tensors='pt', padding=True, truncation=True, max_length=128).to(device)\n",
    "inputs2 = tokenizer(text2, return_tensors='pt', padding=True, truncation=True, max_length=128).to(device)\n",
    "\n",
    "# 5. 获取 BERT 输出（取 [CLS] 向量作为句子表示）\n",
    "with torch.no_grad():\n",
    "    outputs1 = model(**inputs1)\n",
    "    outputs2 = model(**inputs2)\n",
    "\n",
    "# 取 [CLS] token 的向量（句子的全局表示），并转换为numpy数组\n",
    "sentence_vector1 = outputs1.last_hidden_state[:, 0, :].squeeze().cpu().numpy()\n",
    "sentence_vector2 = outputs2.last_hidden_state[:, 0, :].squeeze().cpu().numpy()\n",
    "\n",
    "# 6. 计算余弦相似度\n",
    "similarity = cosine_similarity([sentence_vector1], [sentence_vector2])\n",
    "\n",
    "# 7. 输出结果\n",
    "print(f\"文本1: {text1}\")\n",
    "print(f\"文本2: {text2}\")\n",
    "print(f\"文本相似度（基于 BERT）: {similarity[0][0]:.4f}\")"
   ],
   "id": "6cbf8f173f97ce7a",
   "outputs": [
    {
     "name": "stdout",
     "output_type": "stream",
     "text": [
      "文本1: 我喜欢机器学习和自然语言处理\n",
      "文本2: 我热爱人工智能和深度学习\n",
      "文本相似度（基于 BERT）: 0.8821\n"
     ]
    }
   ],
   "execution_count": 2
  },
  {
   "metadata": {},
   "cell_type": "markdown",
   "source": "## 测试",
   "id": "9887138887ddc939"
  },
  {
   "metadata": {
    "ExecuteTime": {
     "end_time": "2025-07-23T03:17:31.253158Z",
     "start_time": "2025-07-23T03:17:31.057706Z"
    }
   },
   "cell_type": "code",
   "source": [
    "from src.bert_utils import bert_similarity_metric\n",
    "\n",
    "\n",
    "from dspy import Example\n",
    "\n",
    "# 示例 gold 数据（标注样本）\n",
    "gold = Example({\n",
    "    'input': '西北实习生李龙。你好天山站，杨立斌向您回令。喂啥那个啥？是那个操操作天哈，一线线路保护投入的。保护投入了稍等我给你转一下。嗯，好。',\n",
    "    'fault_equipment': '无',\n",
    "    'fault_time': '无',\n",
    "    'region': '无',\n",
    "    'voltage_level': '无',\n",
    "    'weather_condition': '无',\n",
    "    'fault_reason_and_check_result': '无',\n",
    "    'fault_recovery_time': '无',\n",
    "    'illustrate': '天哈，一线线路保护投入',\n",
    "    'line_name': '天哈，一线线路',\n",
    "    'power_supply_time': '无',\n",
    "    'fault_phase': '无',\n",
    "    'protect_info': '无',\n",
    "    'plant_station_name': '天山站',\n",
    "    'bus_name': '无',\n",
    "    'bus_type': '无',\n",
    "    'handling_status': '无',\n",
    "    'detailed_description': '无',\n",
    "    'expecteddefect_elimination_time': '无',\n",
    "    'protection_action': '操操作天哈，一线线路保护投入',\n",
    "    'trip_details': '无',\n",
    "    'unit_num': '无',\n",
    "    'manufacturer': '无',\n",
    "    'production_date': '无'\n",
    "}).with_inputs('input')  # 指定 input 为输入字段\n",
    "\n",
    "# 示例 pred 数据（模型预测结果）\n",
    "pred = Example({\n",
    "    'input': '西北实习生李龙。你好天山站，杨立斌向您回令。喂啥那个啥？是那个操操作天哈，一线线路保护投入的。保护投入了稍等我给你转一下。嗯，好。',\n",
    "    'fault_equipment': '无',\n",
    "    'fault_time': '无',\n",
    "    'region': '无',\n",
    "    'voltage_level': '无',\n",
    "    'weather_condition': '无',\n",
    "    'fault_reason_and_check_result': '无',\n",
    "    'fault_recovery_time': '无',\n",
    "    'illustrate': '天哈一线线路保护投入',\n",
    "    'line_name': '天哈一线线路',\n",
    "    'power_supply_time': '无',\n",
    "    'fault_phase': '无',\n",
    "    'protect_info': '无',\n",
    "    'plant_station_name': '天山电站',\n",
    "    'bus_name': '无',\n",
    "    'bus_type': '无',\n",
    "    'handling_status': '无',\n",
    "    'detailed_description': '无',\n",
    "    'expecteddefect_elimination_time': '无',\n",
    "    'protection_action': '操作天哈一线线路保护投入',\n",
    "    'trip_details': '无',\n",
    "    'unit_num': '无',\n",
    "    'manufacturer': '无',\n",
    "    'production_date': '无'\n",
    "}).with_inputs('input')  # 指定 input 为输入字段\n",
    "\n",
    "# 计算语义相似度\n",
    "score = bert_similarity_metric(gold, pred)\n",
    "print(f\"平均语义相似度：{score:.4f}\")"
   ],
   "id": "d0fecc6e0cf0cb3e",
   "outputs": [
    {
     "name": "stdout",
     "output_type": "stream",
     "text": [
      "平均语义相似度：0.9887\n"
     ]
    }
   ],
   "execution_count": 6
  },
  {
   "metadata": {},
   "cell_type": "code",
   "outputs": [],
   "execution_count": null,
   "source": "",
   "id": "5dd797619400267c"
  }
 ],
 "metadata": {
  "kernelspec": {
   "display_name": "Python 3",
   "language": "python",
   "name": "python3"
  },
  "language_info": {
   "codemirror_mode": {
    "name": "ipython",
    "version": 2
   },
   "file_extension": ".py",
   "mimetype": "text/x-python",
   "name": "python",
   "nbconvert_exporter": "python",
   "pygments_lexer": "ipython2",
   "version": "2.7.6"
  }
 },
 "nbformat": 4,
 "nbformat_minor": 5
}
