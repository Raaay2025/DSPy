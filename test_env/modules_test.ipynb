{
 "cells": [
  {
   "cell_type": "code",
   "id": "initial_id",
   "metadata": {
    "collapsed": true,
    "ExecuteTime": {
     "end_time": "2025-07-18T07:50:28.454611Z",
     "start_time": "2025-07-18T07:50:16.556522Z"
    }
   },
   "source": [
    "import dspy\n",
    "import os\n",
    "\n",
    "from dotenv import load_dotenv\n",
    "\n",
    "load_dotenv()  # 加载 .env 文件中的变量"
   ],
   "outputs": [
    {
     "data": {
      "text/plain": [
       "True"
      ]
     },
     "execution_count": 1,
     "metadata": {},
     "output_type": "execute_result"
    }
   ],
   "execution_count": 1
  },
  {
   "metadata": {
    "ExecuteTime": {
     "end_time": "2025-07-18T07:50:31.131576Z",
     "start_time": "2025-07-18T07:50:31.128200Z"
    }
   },
   "cell_type": "code",
   "source": [
    "# 设置语言模型\n",
    "lm = dspy.LM('openai/qwen2.5-32b-instruct', api_base=os.getenv('QW_API_BASE'), api_key=os.getenv('QW_API_KEY'),\n",
    "             cache=False)\n",
    "dspy.configure(lm=lm)"
   ],
   "id": "bd8968c408fa8036",
   "outputs": [],
   "execution_count": 2
  },
  {
   "metadata": {},
   "cell_type": "markdown",
   "source": "## dspy.Predict",
   "id": "972fafb4ba2b5091"
  },
  {
   "metadata": {
    "ExecuteTime": {
     "end_time": "2025-07-18T07:50:33.948218Z",
     "start_time": "2025-07-18T07:50:33.065841Z"
    }
   },
   "cell_type": "code",
   "source": [
    "sentence = \"it's a charming and often affecting journey.\"  # example from the SST-2 dataset.\n",
    "\n",
    "# 1) Declare with a signature.\n",
    "classify = dspy.Predict('sentence -> sentiment: bool')\n",
    "\n",
    "# 2) Call with input argument(s). \n",
    "response = classify(sentence=sentence)\n",
    "\n",
    "# 3) Access the output.\n",
    "print(response.sentiment)"
   ],
   "id": "3611714f36285228",
   "outputs": [
    {
     "name": "stdout",
     "output_type": "stream",
     "text": [
      "True\n"
     ]
    }
   ],
   "execution_count": 3
  },
  {
   "metadata": {},
   "cell_type": "markdown",
   "source": "## dspy.ChainOfThought",
   "id": "932004e705cd5f65"
  },
  {
   "metadata": {
    "ExecuteTime": {
     "end_time": "2025-07-18T07:51:59.048128Z",
     "start_time": "2025-07-18T07:51:55.050474Z"
    }
   },
   "cell_type": "code",
   "source": [
    "question = \"关于 ColBERT 检索模型，有什么出色之处呢？\"\n",
    "\n",
    "# 1) Declare with a signature, and pass some config.\n",
    "classify = dspy.ChainOfThought('question -> answer', n=4)\n",
    "\n",
    "# 2) Call with input argument.\n",
    "response = classify(question=question)\n",
    "\n",
    "# 3) Access the outputs.\n",
    "response.completions.answer"
   ],
   "id": "19a4f045e973c22a",
   "outputs": [
    {
     "data": {
      "text/plain": [
       "['ColBERT检索模型有以下几个出色之处：\\n\\n1. 高效性：ColBERT采用列式编码的方式，可以快速计算查询与文档之间的相似度，从而实现了高效的检索。\\n2. 高精度：ColBERT通过优化列式编码的方式，提高了检索结果的相关性和准确性。\\n3. 大规模数据处理能力：ColBERT能够有效地处理大规模的数据集，适用于实际应用场景中的大数据检索需求。',\n",
       " 'ColBERT检索模型有以下出色之处：1) 高效性，它采用列式结构，可以快速地计算查询与文档之间的相似度；2) 准确性，!',\n",
       " 'ColBERT检索模型之所以出色，主要有以下几点原因：\\n1. 它采用了列式编码的方式，这使得模型可以更加高效地处理长文档和查询；\\n2. 使用了深度学习技术，通过端到端的学习过程来优化检索效果；\\n3. 在多个标准数据集上取得了优秀的实验!!',\n",
       " 'ColBERT检索模型的出色之处在于它采用了列式编码方式，提高了处理长文档和查询的效率。同时，它利用深度学习技术学习语义相似性，提升了检索效果，并且在多个标准数据集上都取得了优秀的实验结果。']"
      ]
     },
     "execution_count": 6,
     "metadata": {},
     "output_type": "execute_result"
    }
   ],
   "execution_count": 6
  },
  {
   "metadata": {},
   "cell_type": "markdown",
   "source": "检查（第一个）推理过程和答案",
   "id": "d80ba1b0a89d91e0"
  },
  {
   "metadata": {
    "ExecuteTime": {
     "end_time": "2025-07-18T07:53:12.538847Z",
     "start_time": "2025-07-18T07:53:12.528848Z"
    }
   },
   "cell_type": "code",
   "source": [
    "print(f\"Reasoning: {response.reasoning}\")\n",
    "print(f\"Answer: {response.answer}\")"
   ],
   "id": "8d28df02cd1d238e",
   "outputs": [
    {
     "name": "stdout",
     "output_type": "stream",
     "text": [
      "Reasoning: ColBERT检索模型是一种在信息检索领域内被广泛应用的模型，它的全称是“Column-wise Bi-Encoder for Re-ranking”。该模型主要针对的是搜索结果重排序的问题。通过将查询和文档分别编码为向量，并计算它们之间的相似度来实现重排序。它具有以下优点：高效性、高精度以及能够处理大规模数据。\n",
      "Answer: ColBERT检索模型有以下几个出色之处：\n",
      "\n",
      "1. 高效性：ColBERT采用列式编码的方式，可以快速计算查询与文档之间的相似度，从而实现了高效的检索。\n",
      "2. 高精度：ColBERT通过优化列式编码的方式，提高了检索结果的相关性和准确性。\n",
      "3. 大规模数据处理能力：ColBERT能够有效地处理大规模的数据集，适用于实际应用场景中的大数据检索需求。\n"
     ]
    }
   ],
   "execution_count": 7
  },
  {
   "metadata": {},
   "cell_type": "markdown",
   "source": "数学问题",
   "id": "b054cddd6e18fa52"
  },
  {
   "metadata": {
    "ExecuteTime": {
     "end_time": "2025-07-18T07:57:18.998737Z",
     "start_time": "2025-07-18T07:57:14.800734Z"
    }
   },
   "cell_type": "code",
   "source": [
    "math = dspy.ChainOfThought(\"question -> answer: float\")\n",
    "math(question=\"掷出两个骰子。那么，出现两点之和为二的情况的概率是多少？\")"
   ],
   "id": "ea91a5ec2b4bc4e3",
   "outputs": [
    {
     "data": {
      "text/plain": [
       "Prediction(\n",
       "    reasoning='要计算两个骰子掷出的点数之和为2的概率，我们需要知道所有可能的结果数量以及满足条件的结果数量。\\n\\n对于两个六面骰子，每个骰子有6个面，因此总共有6*6=36种可能的结果。\\n只有当两个骰子都显示1时，点数之和才为2。这种情况只有一种，即(1,1)。\\n\\n所以，出现两点之和为2的概率是1/36。',\n",
       "    answer=0.027777777777777776\n",
       ")"
      ]
     },
     "execution_count": 9,
     "metadata": {},
     "output_type": "execute_result"
    }
   ],
   "execution_count": 9
  },
  {
   "metadata": {},
   "cell_type": "code",
   "outputs": [],
   "execution_count": null,
   "source": "",
   "id": "d1f031d60720c51f"
  }
 ],
 "metadata": {
  "kernelspec": {
   "display_name": "Python 3",
   "language": "python",
   "name": "python3"
  },
  "language_info": {
   "codemirror_mode": {
    "name": "ipython",
    "version": 2
   },
   "file_extension": ".py",
   "mimetype": "text/x-python",
   "name": "python",
   "nbconvert_exporter": "python",
   "pygments_lexer": "ipython2",
   "version": "2.7.6"
  }
 },
 "nbformat": 4,
 "nbformat_minor": 5
}
