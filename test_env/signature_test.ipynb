{
 "cells": [
  {
   "metadata": {
    "ExecuteTime": {
     "end_time": "2025-07-18T02:30:00.964657Z",
     "start_time": "2025-07-18T02:30:00.957402Z"
    }
   },
   "cell_type": "code",
   "source": [
    "import dspy\n",
    "import os\n",
    "\n",
    "from dotenv import load_dotenv\n",
    "\n",
    "load_dotenv()  # 加载 .env 文件中的变量"
   ],
   "id": "a23f70cc9caa126e",
   "outputs": [
    {
     "data": {
      "text/plain": [
       "True"
      ]
     },
     "execution_count": 4,
     "metadata": {},
     "output_type": "execute_result"
    }
   ],
   "execution_count": 4
  },
  {
   "metadata": {
    "ExecuteTime": {
     "end_time": "2025-07-18T02:30:01.416393Z",
     "start_time": "2025-07-18T02:30:01.412448Z"
    }
   },
   "cell_type": "code",
   "source": [
    "# 设置语言模型\n",
    "lm = dspy.LM('openai/qwen2.5-32b-instruct', api_base=os.getenv('QW_API_BASE'), api_key=os.getenv('QW_API_KEY'),\n",
    "             cache=False)\n",
    "dspy.configure(lm=lm)"
   ],
   "id": "10be4a28d7ea200f",
   "outputs": [],
   "execution_count": 5
  },
  {
   "metadata": {},
   "cell_type": "markdown",
   "source": "## 示例1：情感分类",
   "id": "ee1f4a0d1bd7e290"
  },
  {
   "metadata": {
    "ExecuteTime": {
     "end_time": "2025-07-18T02:30:03.464952Z",
     "start_time": "2025-07-18T02:30:02.243861Z"
    }
   },
   "cell_type": "code",
   "source": [
    "sentence = \"it's a charming and often affecting journey.\"  # example from the SST-2 dataset.\n",
    "\n",
    "classify = dspy.Predict('sentence -> sentiment: bool')  # we'll see an example with Literal[] later\n",
    "classify(sentence=sentence).sentiment"
   ],
   "id": "bfdb68dd715bfbc6",
   "outputs": [
    {
     "data": {
      "text/plain": [
       "True"
      ]
     },
     "execution_count": 6,
     "metadata": {},
     "output_type": "execute_result"
    }
   ],
   "execution_count": 6
  },
  {
   "metadata": {},
   "cell_type": "markdown",
   "source": "## 示例2：摘要",
   "id": "61eae59783ad0596"
  },
  {
   "metadata": {
    "ExecuteTime": {
     "end_time": "2025-07-18T02:32:37.398267Z",
     "start_time": "2025-07-18T02:32:31.595897Z"
    }
   },
   "cell_type": "code",
   "source": [
    "# Example from the XSum dataset.\n",
    "document = \"\"\"我为什么要使用 DSPy 签名？用于模块化和干净的代码，其中 LM 调用可以优化为高质量的 prompts（或自动微调）。大多数人通过编写冗长、脆弱的 prompt 来强制 LM 执行任务。或者通过收集/生成数据进行微调。编写签名比手动修改 prompt 或微调更具模块化、适应性和可重复性。DSPy 编译器将根据您的签名、数据和管道，为您的 LM（或微调您的小型 LM）找出如何构建高度优化的 prompt。在许多情况下，我们发现编译生成的 prompt 比人工编写的更好。这并非因为 DSPy 优化器比人类更有创造力，而仅仅是因为它们可以尝试更多可能性并直接调整指标。\"\"\"\n",
    "\n",
    "summarize = dspy.ChainOfThought('document -> summary')\n",
    "response = summarize(document=document)\n",
    "\n",
    "print(response.summary)"
   ],
   "id": "bfec601ca8ecd78b",
   "outputs": [
    {
     "name": "stdout",
     "output_type": "stream",
     "text": [
      "DSPy签名用于模块化和干净的代码，使语言模型调用能够优化为高质量的prompts。相较于手动修改prompts或微调，DSPy更具模块化、适应性和可重复性。DSPy编译器能够根据签名、数据和管道找到优化的prompts，且通常优于人工编写的prompts，因为它能测试更多可能性并直接调整指标。\n"
     ]
    }
   ],
   "execution_count": 9
  },
  {
   "cell_type": "code",
   "id": "initial_id",
   "metadata": {
    "collapsed": true,
    "ExecuteTime": {
     "end_time": "2025-07-18T02:32:38.785674Z",
     "start_time": "2025-07-18T02:32:38.775056Z"
    }
   },
   "source": "print(\"Reasoning:\", response.reasoning)",
   "outputs": [
    {
     "name": "stdout",
     "output_type": "stream",
     "text": [
      "Reasoning: 文档描述了DSPy签名的优点，包括模块化、适应性和可重复性，以及它如何帮助LM调优以生成高质量的prompts。与手动修改prompts或微调相比，DSPy能够通过其编译器找到更优化的prompts，这归功于其能够测试更多的可能性并直接调整指标的能力。因此，总结应强调这些关键点。\n"
     ]
    }
   ],
   "execution_count": 10
  },
  {
   "metadata": {},
   "cell_type": "markdown",
   "source": "## 示例3：分类",
   "id": "79b36491c7fa2e1c"
  },
  {
   "metadata": {
    "ExecuteTime": {
     "end_time": "2025-07-18T02:34:17.017268Z",
     "start_time": "2025-07-18T02:34:15.895091Z"
    }
   },
   "cell_type": "code",
   "source": [
    "from typing import Literal\n",
    "\n",
    "class Emotion(dspy.Signature):\n",
    "    \"\"\"Classify emotion.\"\"\"\n",
    "\n",
    "    sentence: str = dspy.InputField()\n",
    "    sentiment: Literal['sadness', 'joy', 'love', 'anger', 'fear', 'surprise'] = dspy.OutputField()\n",
    "\n",
    "sentence = \"当那巨大的聚光灯开始刺得我睁不开眼时，我开始感到有点脆弱。\"  # from dair-ai/emotion\n",
    "\n",
    "classify = dspy.Predict(Emotion)\n",
    "classify(sentence=sentence)"
   ],
   "id": "83b919fc8f122956",
   "outputs": [
    {
     "data": {
      "text/plain": [
       "Prediction(\n",
       "    sentiment='fear'\n",
       ")"
      ]
     },
     "execution_count": 12,
     "metadata": {},
     "output_type": "execute_result"
    }
   ],
   "execution_count": 12
  },
  {
   "metadata": {
    "ExecuteTime": {
     "end_time": "2025-07-18T02:34:55.690644Z",
     "start_time": "2025-07-18T02:34:54.936930Z"
    }
   },
   "cell_type": "code",
   "source": [
    "sentence = \"今天天气真好~\"\n",
    "\n",
    "classify = dspy.Predict(Emotion)\n",
    "classify(sentence=sentence)"
   ],
   "id": "e3206e5a82ccfec3",
   "outputs": [
    {
     "data": {
      "text/plain": [
       "Prediction(\n",
       "    sentiment='joy'\n",
       ")"
      ]
     },
     "execution_count": 13,
     "metadata": {},
     "output_type": "execute_result"
    }
   ],
   "execution_count": 13
  },
  {
   "metadata": {},
   "cell_type": "markdown",
   "source": "## 示例4：评估引文忠实度的指标",
   "id": "bb0fc47ef6dea3d5"
  },
  {
   "metadata": {
    "ExecuteTime": {
     "end_time": "2025-07-18T02:41:12.577423Z",
     "start_time": "2025-07-18T02:41:09.355305Z"
    }
   },
   "cell_type": "code",
   "source": [
    "class CheckCitationFaithfulness(dspy.Signature):\n",
    "    \"\"\"Verify that the text is based on the provided context.\"\"\"\n",
    "\n",
    "    context: str = dspy.InputField(desc=\"facts here are assumed to be true\")\n",
    "    text: str = dspy.InputField()\n",
    "    faithfulness: bool = dspy.OutputField()\n",
    "    evidence: dict[str, list[str]] = dspy.OutputField(desc=\"Supporting evidence for claims\")\n",
    "\n",
    "context = \"这位 21 岁的球员为西汉姆联队出场 7 次，并在上赛季欧联杯资格赛对阵安道尔球队卢斯特雷恩斯的比赛中为球队打入唯一进球。去年，李先后被租借到英甲的布莱克浦和科尔切斯特联队。他在科尔切斯特联队打进两球，但未能帮助球队保级。李与升班马利兹联队签订的合同年限尚未公布。更多最新足球转会信息请访问我们的专题页面。\"\n",
    "\n",
    "text = \"李为科尔切斯特联队贡献了 3 个进球。\"\n",
    "\n",
    "faithfulness = dspy.ChainOfThought(CheckCitationFaithfulness)\n",
    "faithfulness(context=context, text=text)"
   ],
   "id": "52a431af0a88b555",
   "outputs": [
    {
     "data": {
      "text/plain": [
       "Prediction(\n",
       "    reasoning='文本声称李为科尔切斯特联队贡献了3个进球，但根据上下文，他实际上只为科尔切斯特联队打进了两个进球。因此，文本中的陈述不准确。',\n",
       "    faithfulness=False,\n",
       "    evidence={'李': ['他在科尔切斯特联队打进两球，但未能帮助球队保级。']}\n",
       ")"
      ]
     },
     "execution_count": 15,
     "metadata": {},
     "output_type": "execute_result"
    }
   ],
   "execution_count": 15
  },
  {
   "metadata": {},
   "cell_type": "code",
   "outputs": [],
   "execution_count": null,
   "source": "",
   "id": "74a63e394cce07da"
  }
 ],
 "metadata": {
  "kernelspec": {
   "display_name": "Python 3",
   "language": "python",
   "name": "python3"
  },
  "language_info": {
   "codemirror_mode": {
    "name": "ipython",
    "version": 2
   },
   "file_extension": ".py",
   "mimetype": "text/x-python",
   "name": "python",
   "nbconvert_exporter": "python",
   "pygments_lexer": "ipython2",
   "version": "2.7.6"
  }
 },
 "nbformat": 4,
 "nbformat_minor": 5
}
